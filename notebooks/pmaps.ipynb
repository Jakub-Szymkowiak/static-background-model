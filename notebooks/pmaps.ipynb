{
 "cells": [
  {
   "cell_type": "code",
   "execution_count": 1,
   "id": "e24026ce",
   "metadata": {},
   "outputs": [
    {
     "name": "stdout",
     "output_type": "stream",
     "text": [
      "Shape: (288, 512, 6)\n",
      "dtype: float32\n",
      "First few values:\n",
      " [[[-0.18148963 -0.1122654   0.4515619   0.0007228   0.00064591\n",
      "    0.00059977]\n",
      "  [-0.18063895 -0.11227459  0.45130554  0.00096886  0.00089196\n",
      "    0.00084583]\n",
      "  [-0.182412   -0.1138728   0.4573925   0.00107651  0.00099962\n",
      "    0.0009381 ]]\n",
      "\n",
      " [[-0.18457627 -0.11345193  0.45914406  0.00061515  0.00053825\n",
      "    0.00049212]\n",
      "  [-0.18515947 -0.11425336  0.46206114  0.00086121  0.00078431\n",
      "    0.00073818]\n",
      "  [-0.18323308 -0.11360569  0.45936537  0.00103037  0.00095348\n",
      "    0.00090734]]\n",
      "\n",
      " [[-0.18265384 -0.11153033  0.45452943  0.00067666  0.00059977\n",
      "    0.00055363]\n",
      "  [-0.18574217 -0.11391632  0.46354407  0.00075356  0.00067666\n",
      "    0.00063053]\n",
      "  [-0.18512763 -0.11406316  0.46401995  0.00096886  0.00089196\n",
      "    0.00084583]]]\n"
     ]
    }
   ],
   "source": [
    "import numpy as np\n",
    "\n",
    "path = \"/home/computergraphics/Documents/jszymkowiak/mono-vid-dynamic-gs/code/static-background-model/sample_input/bear/gs-input_E2FGVI/pointmaps/frame_0000_pts3d.npy\"\n",
    "arr = np.load(path)\n",
    "print(\"Shape:\", arr.shape)\n",
    "print(\"dtype:\", arr.dtype)\n",
    "print(\"First few values:\\n\", arr[:3, :3])\n"
   ]
  }
 ],
 "metadata": {
  "kernelspec": {
   "display_name": "jsz-general",
   "language": "python",
   "name": "python3"
  },
  "language_info": {
   "codemirror_mode": {
    "name": "ipython",
    "version": 3
   },
   "file_extension": ".py",
   "mimetype": "text/x-python",
   "name": "python",
   "nbconvert_exporter": "python",
   "pygments_lexer": "ipython3",
   "version": "3.13.0"
  }
 },
 "nbformat": 4,
 "nbformat_minor": 5
}

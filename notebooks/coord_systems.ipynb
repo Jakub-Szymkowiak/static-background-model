{
 "cells": [
  {
   "cell_type": "code",
   "execution_count": 112,
   "id": "f333fed5",
   "metadata": {},
   "outputs": [],
   "source": [
    "\n",
    "import matplotlib.pyplot as plt\n",
    "from mpl_toolkits.mplot3d import Axes3D\n",
    "import numpy as np\n"
   ]
  },
  {
   "cell_type": "code",
   "execution_count": 113,
   "id": "45184785",
   "metadata": {},
   "outputs": [],
   "source": [
    "def plot_system(bases):\n",
    "    fig = plt.figure()\n",
    "    ax = fig.add_subplot(111, projection=\"3d\")\n",
    "\n",
    "    origin = np.zeros(3)\n",
    "\n",
    "    # Each system gets its own color triplet\n",
    "    system_axis_colors = [\n",
    "        [\"red\", \"green\", \"blue\"],\n",
    "        # [\"orange\", \"purple\", \"cyan\"],\n",
    "        # [\"brown\", \"olive\", \"pink\"],\n",
    "        # [\"magenta\", \"yellow\", \"teal\"]\n",
    "    ]\n",
    "\n",
    "    for system_idx, basis in enumerate(bases):\n",
    "        colors = system_axis_colors[system_idx % len(system_axis_colors)]\n",
    "        for axis_idx in range(3):\n",
    "            ax.quiver(\n",
    "                origin[0], origin[1], origin[2],\n",
    "                basis[axis_idx, 0], basis[axis_idx, 1], basis[axis_idx, 2],\n",
    "                color=colors[axis_idx], arrow_length_ratio=0.1, linewidth=2\n",
    "            )\n",
    "\n",
    "    ax.view_init(elev=50, azim=60)\n",
    "\n",
    "    ax.set_xlim([-2, 2])\n",
    "    ax.set_ylim([-2, 2])\n",
    "    ax.set_zlim([-2, 2])\n",
    "    ax.set_axis_off()\n",
    "\n",
    "    plt.show()\n"
   ]
  },
  {
   "cell_type": "code",
   "execution_count": 114,
   "id": "75dedf58",
   "metadata": {},
   "outputs": [],
   "source": [
    "canonical = np.eye(3)"
   ]
  },
  {
   "cell_type": "code",
   "execution_count": 115,
   "id": "d49cec43",
   "metadata": {},
   "outputs": [
    {
     "data": {
      "image/png": "[encoded data removed]",
      "text/plain": [
       "<Figure size 640x480 with 1 Axes>"
      ]
     },
     "metadata": {},
     "output_type": "display_data"
    }
   ],
   "source": [
    "# negative\n",
    "plot_system([canonical])"
   ]
  },
  {
   "cell_type": "code",
   "execution_count": 116,
   "id": "f9f5d8a4",
   "metadata": {},
   "outputs": [
    {
     "data": {
      "image/png": "[encoded data removed]",
      "text/plain": [
       "<Figure size 640x480 with 1 Axes>"
      ]
     },
     "metadata": {},
     "output_type": "display_data"
    }
   ],
   "source": [
    "def compose_transform(basis, angle_deg):\n",
    "    angle_rad = np.deg2rad(angle_deg)\n",
    "\n",
    "    Rz = np.array([\n",
    "        [np.cos(angle_rad), -np.sin(angle_rad), 0],\n",
    "        [np.sin(angle_rad),  np.cos(angle_rad), 0],\n",
    "        [0, 0, 1]\n",
    "    ])\n",
    "\n",
    "    rotated_basis = Rz @ basis\n",
    "\n",
    "    return rotated_basis\n",
    "\n",
    "P = np.array([\n",
    "    [1, 0, 0],\n",
    "    [0, 1, 0],\n",
    "    [0, 0, 1]\n",
    "])\n",
    "\n",
    "plot_system([compose_transform(canonical, -135)])"
   ]
  },
  {
   "cell_type": "code",
   "execution_count": 117,
   "id": "5fc7f218",
   "metadata": {},
   "outputs": [
    {
     "data": {
      "image/png": "[encoded data removed]",
      "text/plain": [
       "<Figure size 640x480 with 1 Axes>"
      ]
     },
     "metadata": {},
     "output_type": "display_data"
    }
   ],
   "source": [
    "plot_system([compose_transform(canonical, -135)])"
   ]
  },
  {
   "cell_type": "code",
   "execution_count": null,
   "id": "90286baf",
   "metadata": {},
   "outputs": [],
   "source": []
  }
 ],
 "metadata": {
  "kernelspec": {
   "display_name": "gaussian_splatting",
   "language": "python",
   "name": "python3"
  },
  "language_info": {
   "codemirror_mode": {
    "name": "ipython",
    "version": 3
   },
   "file_extension": ".py",
   "mimetype": "text/x-python",
   "name": "python",
   "nbconvert_exporter": "python",
   "pygments_lexer": "ipython3",
   "version": "3.7.12"
  }
 },
 "nbformat": 4,
 "nbformat_minor": 5
}
